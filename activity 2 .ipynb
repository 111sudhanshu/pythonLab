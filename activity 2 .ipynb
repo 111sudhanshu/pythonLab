{
 "cells": [
  {
   "cell_type": "markdown",
   "id": "ab73d39c",
   "metadata": {},
   "source": [
    "# For Loop"
   ]
  },
  {
   "cell_type": "code",
   "execution_count": 2,
   "id": "cca25ea6",
   "metadata": {},
   "outputs": [
    {
     "name": "stdout",
     "output_type": "stream",
     "text": [
      "2\n",
      "3\n",
      "4\n",
      "5\n"
     ]
    }
   ],
   "source": [
    "a=[2,3,4,5]\n",
    "for i in a:\n",
    "    print(i)"
   ]
  },
  {
   "cell_type": "markdown",
   "id": "5b753bb0",
   "metadata": {},
   "source": [
    "# For loop And Range"
   ]
  },
  {
   "cell_type": "code",
   "execution_count": 3,
   "id": "064bff5d",
   "metadata": {},
   "outputs": [
    {
     "name": "stdout",
     "output_type": "stream",
     "text": [
      "2\n",
      "3\n",
      "4\n",
      "5\n"
     ]
    }
   ],
   "source": [
    "a=[2,3,4,5]\n",
    "lenght=len(a)\n",
    "for i in range(lenght):\n",
    "    print(a[i])\n"
   ]
  },
  {
   "cell_type": "markdown",
   "id": "7ad5f9d3",
   "metadata": {},
   "source": [
    "# While Loop"
   ]
  },
  {
   "cell_type": "code",
   "execution_count": 4,
   "id": "f5e4164d",
   "metadata": {},
   "outputs": [
    {
     "name": "stdout",
     "output_type": "stream",
     "text": [
      "2\n",
      "4\n",
      "6\n",
      "8\n"
     ]
    }
   ],
   "source": [
    "b=[2,4,6,8]\n",
    "length=len(b)\n",
    "i=0\n",
    "while i< length:\n",
    "    print(b[i])\n",
    "    i+=1"
   ]
  },
  {
   "cell_type": "markdown",
   "id": "55f3c9db",
   "metadata": {},
   "source": [
    "# List comprehension"
   ]
  },
  {
   "cell_type": "code",
   "execution_count": 6,
   "id": "ed845fcf",
   "metadata": {},
   "outputs": [
    {
     "name": "stdout",
     "output_type": "stream",
     "text": [
      "4\n",
      "6\n",
      "89\n",
      "90\n"
     ]
    },
    {
     "data": {
      "text/plain": [
       "[None, None, None, None]"
      ]
     },
     "execution_count": 6,
     "metadata": {},
     "output_type": "execute_result"
    }
   ],
   "source": [
    "c=[4,6,89,90]\n",
    "[print(i) for i in c]\n"
   ]
  },
  {
   "cell_type": "markdown",
   "id": "cf716ea0",
   "metadata": {},
   "source": [
    "#  Loops in Dictionary"
   ]
  },
  {
   "cell_type": "markdown",
   "id": "c2d970f5",
   "metadata": {},
   "source": [
    "Access keys using the  build .key() "
   ]
  },
  {
   "cell_type": "code",
   "execution_count": 9,
   "id": "a73c6462",
   "metadata": {},
   "outputs": [
    {
     "name": "stdout",
     "output_type": "stream",
     "text": [
      "dict_keys([2, 3, 4])\n"
     ]
    }
   ],
   "source": [
    "d={2:\"baseer\", 3:\"hello\", 4:\"melon\"}\n",
    "keys=d.keys()\n",
    "print(keys)"
   ]
  },
  {
   "cell_type": "code",
   "execution_count": null,
   "id": "a3789ba6",
   "metadata": {},
   "outputs": [],
   "source": []
  }
 ],
 "metadata": {
  "kernelspec": {
   "display_name": "Python 3 (ipykernel)",
   "language": "python",
   "name": "python3"
  },
  "language_info": {
   "codemirror_mode": {
    "name": "ipython",
    "version": 3
   },
   "file_extension": ".py",
   "mimetype": "text/x-python",
   "name": "python",
   "nbconvert_exporter": "python",
   "pygments_lexer": "ipython3",
   "version": "3.9.12"
  }
 },
 "nbformat": 4,
 "nbformat_minor": 5
}
