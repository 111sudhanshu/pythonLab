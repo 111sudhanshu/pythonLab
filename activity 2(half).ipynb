{
 "cells": [
  {
   "cell_type": "code",
   "execution_count": 1,
   "id": "00262f13",
   "metadata": {},
   "outputs": [
    {
     "name": "stdout",
     "output_type": "stream",
     "text": [
      "dict_keys([1, 2])\n"
     ]
    }
   ],
   "source": [
    "a={1:\"bas\",2:\"eer\"}\n",
    "k=a.keys()\n",
    "print(k)"
   ]
  },
  {
   "cell_type": "code",
   "execution_count": 2,
   "id": "114109d4",
   "metadata": {},
   "outputs": [
    {
     "name": "stdout",
     "output_type": "stream",
     "text": [
      "1\n",
      "2\n"
     ]
    }
   ],
   "source": [
    "a={1:\"bas\",2:\"eer\"}\n",
    "for i in a:\n",
    "    print(i)"
   ]
  },
  {
   "cell_type": "code",
   "execution_count": 4,
   "id": "73e2c62a",
   "metadata": {},
   "outputs": [
    {
     "name": "stdout",
     "output_type": "stream",
     "text": [
      "dict_items([(1, 'bas'), (2, 'eer')])\n"
     ]
    }
   ],
   "source": [
    "a={1:\"bas\",2:\"eer\"}\n",
    "l=a.items()\n",
    "print(l)"
   ]
  },
  {
   "cell_type": "code",
   "execution_count": 5,
   "id": "fc361ddc",
   "metadata": {},
   "outputs": [
    {
     "name": "stdout",
     "output_type": "stream",
     "text": [
      "bas\n",
      "eer\n"
     ]
    }
   ],
   "source": [
    "a={1:\"bas\",2:\"eer\"}\n",
    "for i in a.values():\n",
    "    print(i)"
   ]
  },
  {
   "cell_type": "code",
   "execution_count": 8,
   "id": "cd6772a3",
   "metadata": {},
   "outputs": [
    {
     "name": "stdout",
     "output_type": "stream",
     "text": [
      "1 : bas\n",
      "2 : eer\n"
     ]
    }
   ],
   "source": [
    "a={1:\"bas\",2:\"eer\"}\n",
    "for x,y in a.items():\n",
    "    print(x ,\":\" ,y)"
   ]
  },
  {
   "cell_type": "code",
   "execution_count": 10,
   "id": "3b7c6460",
   "metadata": {},
   "outputs": [
    {
     "name": "stdout",
     "output_type": "stream",
     "text": [
      "1 -> bas\n",
      "2 -> eer\n"
     ]
    }
   ],
   "source": [
    "a={1:\"bas\",2:\"eer\"}\n",
    "for i in a:\n",
    "    print(i ,\"->\",a[i])"
   ]
  },
  {
   "cell_type": "code",
   "execution_count": null,
   "id": "1c008d1d",
   "metadata": {},
   "outputs": [],
   "source": []
  }
 ],
 "metadata": {
  "kernelspec": {
   "display_name": "Python 3 (ipykernel)",
   "language": "python",
   "name": "python3"
  },
  "language_info": {
   "codemirror_mode": {
    "name": "ipython",
    "version": 3
   },
   "file_extension": ".py",
   "mimetype": "text/x-python",
   "name": "python",
   "nbconvert_exporter": "python",
   "pygments_lexer": "ipython3",
   "version": "3.9.12"
  }
 },
 "nbformat": 4,
 "nbformat_minor": 5
}
